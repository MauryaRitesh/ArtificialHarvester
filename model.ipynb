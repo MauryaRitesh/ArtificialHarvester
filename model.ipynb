{
 "cells": [
  {
   "cell_type": "code",
   "execution_count": null,
   "id": "2da0bcd6-b9e1-4f31-afc1-3c32ad4e87b4",
   "metadata": {},
   "outputs": [],
   "source": [
    "import tensorflow as tf\n",
    "from tensorflow import keras\n",
    "from tensorflow.keras import layers\n",
    "from keras.models import Sequential\n",
    "from keras.layers import Activation, Dense\n",
    "import keras\n",
    "# from tensorflow.keras import Flatten"
   ]
  },
  {
   "cell_type": "code",
   "execution_count": null,
   "id": "32295af1-2062-4191-8bfc-9e862d7f5051",
   "metadata": {},
   "outputs": [],
   "source": [
    "import cv2\n",
    "vidcap = cv2.VideoCapture('raw_data/final.mp4')\n",
    "success,image = vidcap.read()\n",
    "count = 0\n",
    "success = True\n",
    "while success:\n",
    "  success,image = vidcap.read()\n",
    "  cv2.imwrite(\"frame%d.jpg\" % count, image)     # save frame as JPEG file\n",
    "  #print('Read a new frame: ', success)\n",
    "  count += 1\n",
    "  \n",
    "else:\n",
    "  pass"
   ]
  },
  {
   "cell_type": "code",
   "execution_count": null,
   "id": "b1ce113e-1ad8-43c3-992e-d4c48b812b78",
   "metadata": {},
   "outputs": [],
   "source": []
  },
  {
   "cell_type": "code",
   "execution_count": 10,
   "id": "4a6fca29-e5eb-46e7-b79c-52152ef058e5",
   "metadata": {},
   "outputs": [
    {
     "name": "stdout",
     "output_type": "stream",
     "text": [
      "Found 3907 files belonging to 3 classes.\n",
      "Using 3517 files for training.\n"
     ]
    }
   ],
   "source": [
    "img_height,img_width=180,180\n",
    "batch_size=32\n",
    "\n",
    "train_ds = tf.keras.preprocessing.image_dataset_from_directory(\n",
    "  \"train\",\n",
    "  validation_split=0.1,\n",
    "  subset=\"training\",\n",
    "  seed=123,\n",
    "  label_mode='categorical' ,\n",
    "  # horizontal_flip,\n",
    "  image_size=(img_height, img_width),\n",
    "  batch_size=batch_size)"
   ]
  },
  {
   "cell_type": "code",
   "execution_count": 11,
   "id": "2e877c2d-77ce-4aac-9740-368c336b5d5c",
   "metadata": {},
   "outputs": [
    {
     "name": "stdout",
     "output_type": "stream",
     "text": [
      "Found 3907 files belonging to 3 classes.\n",
      "Using 390 files for validation.\n"
     ]
    }
   ],
   "source": [
    "val_ds = tf.keras.preprocessing.image_dataset_from_directory(\n",
    "    \"train\",\n",
    "  validation_split=0.1,\n",
    "  subset=\"validation\",\n",
    "  seed=123,\n",
    "  label_mode='categorical' ,\n",
    "  image_size=(img_height, img_width),\n",
    "  batch_size=batch_size)\n"
   ]
  },
  {
   "cell_type": "code",
   "execution_count": 12,
   "id": "32ffa2a5-c5ca-40de-987f-85f68b67ba4c",
   "metadata": {},
   "outputs": [
    {
     "name": "stdout",
     "output_type": "stream",
     "text": [
      "['final', 'initial', 'medium']\n"
     ]
    }
   ],
   "source": [
    "class_names=train_ds.class_names\n",
    "print(class_names)"
   ]
  },
  {
   "cell_type": "code",
   "execution_count": 19,
   "id": "dd3300a1-62ef-41a8-82f7-493f171940a9",
   "metadata": {},
   "outputs": [],
   "source": [
    "resnet_model = Sequential()\n",
    "\n",
    "pretrained_model= tf.keras.applications.ResNet50(include_top=False,\n",
    "                   input_shape=(180,180,3),\n",
    "                   pooling='avg',classes=3,\n",
    "                   weights='imagenet')\n",
    "for layer in pretrained_model.layers:\n",
    "        layer.trainable=False\n",
    "\n",
    "resnet_model.add(pretrained_model)\n",
    "resnet_model.add(tf.keras.layers.Flatten())\n",
    "\n",
    "resnet_model.add(Dense(512, activation='relu'))\n",
    "resnet_model.add(Dense(3, activation='softmax'))"
   ]
  },
  {
   "cell_type": "code",
   "execution_count": 20,
   "id": "623b186f-e814-4fc3-9cdd-f6f7255cdae7",
   "metadata": {},
   "outputs": [],
   "source": [
    "resnet_model.compile(optimizer='rmsprop',loss='categorical_crossentropy',metrics=['accuracy'])"
   ]
  },
  {
   "cell_type": "code",
   "execution_count": 31,
   "id": "986a1ec1-7ffd-490d-b081-4ae08966fef8",
   "metadata": {},
   "outputs": [
    {
     "name": "stdout",
     "output_type": "stream",
     "text": [
      "Epoch 1/2\n",
      "110/110 [==============================] - 245s 2s/step - loss: 0.0568 - accuracy: 0.9957 - val_loss: 8.4942e-07 - val_accuracy: 1.0000\n",
      "Epoch 2/2\n",
      "110/110 [==============================] - 243s 2s/step - loss: 2.1496e-07 - accuracy: 1.0000 - val_loss: 3.2706e-08 - val_accuracy: 1.0000\n"
     ]
    }
   ],
   "source": [
    "model = resnet_model.fit(train_ds, validation_data=val_ds, epochs=2)"
   ]
  },
  {
   "cell_type": "code",
   "execution_count": null,
   "id": "cfecb88e-3079-476b-b5b0-f2cba75d0226",
   "metadata": {},
   "outputs": [],
   "source": []
  },
  {
   "cell_type": "code",
   "execution_count": null,
   "id": "0a2b1668-db21-4c50-aaec-5dd8d0228591",
   "metadata": {},
   "outputs": [],
   "source": []
  },
  {
   "cell_type": "code",
   "execution_count": 32,
   "id": "0b78e827-77c9-40d7-82a4-d62e2a2b1a38",
   "metadata": {},
   "outputs": [],
   "source": [
    "from matplotlib import pyplot as plt\n",
    "import numpy as np"
   ]
  },
  {
   "cell_type": "code",
   "execution_count": 33,
   "id": "8d301b17-1863-4203-a6a6-0028aa2bb08b",
   "metadata": {},
   "outputs": [
    {
     "data": {
      "image/png": "[encoded data removed]",
      "text/plain": [
       "<Figure size 640x480 with 1 Axes>"
      ]
     },
     "metadata": {},
     "output_type": "display_data"
    }
   ],
   "source": [
    "fig1 = plt.gcf()\n",
    "plt.plot(model.history['accuracy'])\n",
    "plt.plot(model.history['val_accuracy'])\n",
    "plt.axis(ymin=0.4,ymax=1)\n",
    "plt.grid()\n",
    "plt.title('Model Accuracy')\n",
    "plt.ylabel('Accuracy')\n",
    "plt.xlabel('Epochs')\n",
    "plt.legend(['train', 'validation'])\n",
    "plt.show()"
   ]
  },
  {
   "cell_type": "code",
   "execution_count": 49,
   "id": "9e97cba8-7ab4-46b5-9c73-f6f46aee5b9a",
   "metadata": {},
   "outputs": [
    {
     "name": "stdout",
     "output_type": "stream",
     "text": [
      "1/1 [==============================] - 0s 163ms/step\n",
      "final\n"
     ]
    }
   ],
   "source": [
    "\n",
    "test_image=tf.keras.utils.load_img('test.jpg',target_size=(180,180))\n",
    "test_image=tf.keras.utils.img_to_array(test_image)\n",
    "test_image=np.expand_dims(test_image,axis=0)\n",
    "pred=resnet_model.predict(test_image)\n",
    "output_class=class_names[np.argmax(pred)]\n",
    "print(output_class)"
   ]
  },
  {
   "cell_type": "code",
   "execution_count": 48,
   "id": "fe3ce17d-14c9-4a32-b158-c08ffd0eef6b",
   "metadata": {},
   "outputs": [
    {
     "name": "stdout",
     "output_type": "stream",
     "text": [
      "1/1 [==============================] - 0s 148ms/step\n",
      "medium\n"
     ]
    }
   ],
   "source": [
    "test_image=tf.keras.utils.load_img('val/not_ripe/OIP.jpeg',target_size=(180,180))\n",
    "test_image=tf.keras.utils.img_to_array(test_image)\n",
    "test_image=np.expand_dims(test_image,axis=0)\n",
    "pred=resnet_model.predict(test_image)\n",
    "output_class=class_names[np.argmax(pred)]\n",
    "print(output_class)"
   ]
  },
  {
   "cell_type": "code",
   "execution_count": null,
   "id": "1e88bc35-022f-46be-ac2f-0f7182d1a757",
   "metadata": {},
   "outputs": [],
   "source": []
  }
 ],
 "metadata": {
  "kernelspec": {
   "display_name": "Python 3 (ipykernel)",
   "language": "python",
   "name": "python3"
  },
  "language_info": {
   "codemirror_mode": {
    "name": "ipython",
    "version": 3
   },
   "file_extension": ".py",
   "mimetype": "text/x-python",
   "name": "python",
   "nbconvert_exporter": "python",
   "pygments_lexer": "ipython3",
   "version": "3.10.8"
  }
 },
 "nbformat": 4,
 "nbformat_minor": 5
}
